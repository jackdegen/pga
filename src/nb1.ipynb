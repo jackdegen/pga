{
 "cells": [
  {
   "cell_type": "code",
   "execution_count": 1,
   "id": "84bba094-faef-41c6-8a68-bf323d428640",
   "metadata": {},
   "outputs": [],
   "source": [
    "from data_loader import load_data"
   ]
  },
  {
   "cell_type": "code",
   "execution_count": 2,
   "id": "0a39ad24-59f5-47d2-ba04-74dcf056aaf9",
   "metadata": {},
   "outputs": [
    {
     "data": {
      "text/html": [
       "<div>\n",
       "<style scoped>\n",
       "    .dataframe tbody tr th:only-of-type {\n",
       "        vertical-align: middle;\n",
       "    }\n",
       "\n",
       "    .dataframe tbody tr th {\n",
       "        vertical-align: top;\n",
       "    }\n",
       "\n",
       "    .dataframe thead th {\n",
       "        text-align: right;\n",
       "    }\n",
       "</style>\n",
       "<table border=\"1\" class=\"dataframe\">\n",
       "  <thead>\n",
       "    <tr style=\"text-align: right;\">\n",
       "      <th></th>\n",
       "      <th>dg_id</th>\n",
       "      <th>early_late_wave</th>\n",
       "      <th>proj_ownership</th>\n",
       "      <th>proj_points_finish</th>\n",
       "      <th>proj_points_scoring</th>\n",
       "      <th>proj_points_total</th>\n",
       "      <th>r1_teetime</th>\n",
       "      <th>salary</th>\n",
       "      <th>id</th>\n",
       "    </tr>\n",
       "    <tr>\n",
       "      <th>name</th>\n",
       "      <th></th>\n",
       "      <th></th>\n",
       "      <th></th>\n",
       "      <th></th>\n",
       "      <th></th>\n",
       "      <th></th>\n",
       "      <th></th>\n",
       "      <th></th>\n",
       "      <th></th>\n",
       "    </tr>\n",
       "  </thead>\n",
       "  <tbody>\n",
       "    <tr>\n",
       "      <th>Scottie Scheffler</th>\n",
       "      <td>18417</td>\n",
       "      <td>0</td>\n",
       "      <td>None</td>\n",
       "      <td>10.80</td>\n",
       "      <td>65.12</td>\n",
       "      <td>75.92</td>\n",
       "      <td>n/a</td>\n",
       "      <td>12800</td>\n",
       "      <td>35033420</td>\n",
       "    </tr>\n",
       "    <tr>\n",
       "      <th>Bryson DeChambeau</th>\n",
       "      <td>19841</td>\n",
       "      <td>0</td>\n",
       "      <td>None</td>\n",
       "      <td>5.41</td>\n",
       "      <td>53.99</td>\n",
       "      <td>59.40</td>\n",
       "      <td>n/a</td>\n",
       "      <td>11500</td>\n",
       "      <td>35033421</td>\n",
       "    </tr>\n",
       "    <tr>\n",
       "      <th>Rory McIlroy</th>\n",
       "      <td>10091</td>\n",
       "      <td>0</td>\n",
       "      <td>None</td>\n",
       "      <td>8.74</td>\n",
       "      <td>61.46</td>\n",
       "      <td>70.20</td>\n",
       "      <td>n/a</td>\n",
       "      <td>11400</td>\n",
       "      <td>35033422</td>\n",
       "    </tr>\n",
       "    <tr>\n",
       "      <th>Xander Schauffele</th>\n",
       "      <td>19895</td>\n",
       "      <td>0</td>\n",
       "      <td>None</td>\n",
       "      <td>8.12</td>\n",
       "      <td>60.15</td>\n",
       "      <td>68.26</td>\n",
       "      <td>n/a</td>\n",
       "      <td>11200</td>\n",
       "      <td>35033423</td>\n",
       "    </tr>\n",
       "    <tr>\n",
       "      <th>Jon Rahm</th>\n",
       "      <td>19195</td>\n",
       "      <td>0</td>\n",
       "      <td>None</td>\n",
       "      <td>5.50</td>\n",
       "      <td>54.30</td>\n",
       "      <td>59.80</td>\n",
       "      <td>n/a</td>\n",
       "      <td>10400</td>\n",
       "      <td>35033424</td>\n",
       "    </tr>\n",
       "    <tr>\n",
       "      <th>...</th>\n",
       "      <td>...</td>\n",
       "      <td>...</td>\n",
       "      <td>...</td>\n",
       "      <td>...</td>\n",
       "      <td>...</td>\n",
       "      <td>...</td>\n",
       "      <td>...</td>\n",
       "      <td>...</td>\n",
       "      <td>...</td>\n",
       "    </tr>\n",
       "    <tr>\n",
       "      <th>Justin Leonard</th>\n",
       "      <td>5603</td>\n",
       "      <td>0</td>\n",
       "      <td>None</td>\n",
       "      <td>0.04</td>\n",
       "      <td>17.63</td>\n",
       "      <td>17.67</td>\n",
       "      <td>n/a</td>\n",
       "      <td>5000</td>\n",
       "      <td>35033575</td>\n",
       "    </tr>\n",
       "    <tr>\n",
       "      <th>Alex Cejka</th>\n",
       "      <td>4425</td>\n",
       "      <td>0</td>\n",
       "      <td>None</td>\n",
       "      <td>0.11</td>\n",
       "      <td>21.19</td>\n",
       "      <td>21.30</td>\n",
       "      <td>n/a</td>\n",
       "      <td>5000</td>\n",
       "      <td>35033570</td>\n",
       "    </tr>\n",
       "    <tr>\n",
       "      <th>Darren Clarke</th>\n",
       "      <td>3523</td>\n",
       "      <td>0</td>\n",
       "      <td>None</td>\n",
       "      <td>0.11</td>\n",
       "      <td>21.07</td>\n",
       "      <td>21.18</td>\n",
       "      <td>n/a</td>\n",
       "      <td>5000</td>\n",
       "      <td>35033572</td>\n",
       "    </tr>\n",
       "    <tr>\n",
       "      <th>Todd Hamilton</th>\n",
       "      <td>915</td>\n",
       "      <td>0</td>\n",
       "      <td>None</td>\n",
       "      <td>0.00</td>\n",
       "      <td>6.52</td>\n",
       "      <td>6.52</td>\n",
       "      <td>n/a</td>\n",
       "      <td>5000</td>\n",
       "      <td>35033574</td>\n",
       "    </tr>\n",
       "    <tr>\n",
       "      <th>John Daly</th>\n",
       "      <td>863</td>\n",
       "      <td>0</td>\n",
       "      <td>None</td>\n",
       "      <td>0.00</td>\n",
       "      <td>8.95</td>\n",
       "      <td>8.95</td>\n",
       "      <td>n/a</td>\n",
       "      <td>5000</td>\n",
       "      <td>35033573</td>\n",
       "    </tr>\n",
       "  </tbody>\n",
       "</table>\n",
       "<p>158 rows × 9 columns</p>\n",
       "</div>"
      ],
      "text/plain": [
       "                   dg_id  early_late_wave proj_ownership  proj_points_finish  \\\n",
       "name                                                                           \n",
       "Scottie Scheffler  18417                0           None               10.80   \n",
       "Bryson DeChambeau  19841                0           None                5.41   \n",
       "Rory McIlroy       10091                0           None                8.74   \n",
       "Xander Schauffele  19895                0           None                8.12   \n",
       "Jon Rahm           19195                0           None                5.50   \n",
       "...                  ...              ...            ...                 ...   \n",
       "Justin Leonard      5603                0           None                0.04   \n",
       "Alex Cejka          4425                0           None                0.11   \n",
       "Darren Clarke       3523                0           None                0.11   \n",
       "Todd Hamilton        915                0           None                0.00   \n",
       "John Daly            863                0           None                0.00   \n",
       "\n",
       "                   proj_points_scoring  proj_points_total r1_teetime  salary  \\\n",
       "name                                                                           \n",
       "Scottie Scheffler                65.12              75.92        n/a   12800   \n",
       "Bryson DeChambeau                53.99              59.40        n/a   11500   \n",
       "Rory McIlroy                     61.46              70.20        n/a   11400   \n",
       "Xander Schauffele                60.15              68.26        n/a   11200   \n",
       "Jon Rahm                         54.30              59.80        n/a   10400   \n",
       "...                                ...                ...        ...     ...   \n",
       "Justin Leonard                   17.63              17.67        n/a    5000   \n",
       "Alex Cejka                       21.19              21.30        n/a    5000   \n",
       "Darren Clarke                    21.07              21.18        n/a    5000   \n",
       "Todd Hamilton                     6.52               6.52        n/a    5000   \n",
       "John Daly                         8.95               8.95        n/a    5000   \n",
       "\n",
       "                         id  \n",
       "name                         \n",
       "Scottie Scheffler  35033420  \n",
       "Bryson DeChambeau  35033421  \n",
       "Rory McIlroy       35033422  \n",
       "Xander Schauffele  35033423  \n",
       "Jon Rahm           35033424  \n",
       "...                     ...  \n",
       "Justin Leonard     35033575  \n",
       "Alex Cejka         35033570  \n",
       "Darren Clarke      35033572  \n",
       "Todd Hamilton      35033574  \n",
       "John Daly          35033573  \n",
       "\n",
       "[158 rows x 9 columns]"
      ]
     },
     "execution_count": 2,
     "metadata": {},
     "output_type": "execute_result"
    }
   ],
   "source": [
    "load_data()"
   ]
  },
  {
   "cell_type": "code",
   "execution_count": 13,
   "id": "e5ce61ba-c4e1-43ff-8186-020dc077c84c",
   "metadata": {},
   "outputs": [],
   "source": [
    "raw  = load_data()"
   ]
  },
  {
   "cell_type": "code",
   "execution_count": 14,
   "id": "e2e8bb95-50d6-40a9-b16c-1755a8a12278",
   "metadata": {},
   "outputs": [
    {
     "data": {
      "text/plain": [
       "count      158.000000\n",
       "mean      6444.936709\n",
       "std       1439.238452\n",
       "min       5000.000000\n",
       "25%       5425.000000\n",
       "50%       6100.000000\n",
       "75%       6900.000000\n",
       "max      12800.000000\n",
       "Name: salary, dtype: float64"
      ]
     },
     "execution_count": 14,
     "metadata": {},
     "output_type": "execute_result"
    }
   ],
   "source": [
    "raw['salary'].describe()"
   ]
  },
  {
   "cell_type": "code",
   "execution_count": null,
   "id": "0332eb35-4f78-45fa-8678-7fd06cd9a0ff",
   "metadata": {},
   "outputs": [],
   "source": []
  },
  {
   "cell_type": "code",
   "execution_count": 31,
   "id": "54ef3348-c3e3-41ff-b1db-b6ab21b47665",
   "metadata": {},
   "outputs": [],
   "source": [
    "class Lookup:\n",
    "    def __init__(self):\n",
    "        self.data = load_data()\n",
    "\n",
    "    def names(self):\n",
    "        return tuple(self.data.index)\n",
    "\n",
    "    def salary(self, name: str):\n",
    "        return self.data.loc[name, 'salary']\n",
    "\n",
    "    def salaries(self, names: tuple[str,...]):\n",
    "        return [self.salary(name) for name in names]\n",
    "\n",
    "    def cost(self, names: tuple[str,...]):\n",
    "        return sum([self.salary(name) for name in names])\n",
    "\n",
    "class Checker:\n",
    "    def __init__(self):\n",
    "        self.lookup = Lookup()\n",
    "\n",
    "    def salaries(self, sals: list[int,...]):\n",
    "        if len(sals) == 3:\n",
    "            return len([sal for sal in sals if sal <= 6100]) <= 1\n",
    "\n",
    "        return len([sal for sal in sals if sal <= 6100]) <= 5\n"
   ]
  },
  {
   "cell_type": "code",
   "execution_count": 60,
   "id": "aae32858-0c91-4705-8ce4-49ce0bfa2955",
   "metadata": {},
   "outputs": [],
   "source": [
    "import itertools\n",
    "import random\n",
    "\n",
    "def possible(MIN_SALARY=49_500):\n",
    "\n",
    "    lookup = Lookup()\n",
    "\n",
    "    return [combo for combo in itertools.combinations(lookup.names(), 6) if MIN_SALARY <= lookup.cost(combo) <= 50_000]\n",
    "\n",
    "def wittle():\n",
    "    \"\"\"\n",
    "    Attempting to limit subcombos in order to make it possible to create all possible lineups\n",
    "    \"\"\"\n",
    "    lookup = Lookup()\n",
    "    names = list(lookup.names())\n",
    "    random.shuffle(names)\n",
    "    checker = Checker()\n",
    "\n",
    "    a, b = names[:len(names)//2], names[len(names)//2:]\n",
    "    sub_a = [combo for combo in itertools.combinations(a, 3) if checker.salaries(lookup.salaries(combo))]\n",
    "    sub_b = [combo for combo in itertools.combinations(b, 3) if checker.salaries(lookup.salaries(combo))]\n",
    "\n",
    "    lineups = [combo for combo in itertools.product(sub_a, sub_b) if checker.salaries(lookup.salaries(combo))]\n",
    "\n",
    "    return lineups\n",
    "    \n",
    "    "
   ]
  },
  {
   "cell_type": "code",
   "execution_count": 61,
   "id": "8ef15f08-e48f-4240-a36f-33818297a142",
   "metadata": {},
   "outputs": [],
   "source": [
    "# POSSIBLE = possible()"
   ]
  },
  {
   "cell_type": "code",
   "execution_count": 62,
   "id": "26daa5ff-b04e-48c7-af43-844c68df8ca2",
   "metadata": {},
   "outputs": [],
   "source": [
    "# len(POSSIBLE)"
   ]
  },
  {
   "cell_type": "code",
   "execution_count": 63,
   "id": "e3cc1fc4-bbe9-4974-9e1e-b5df9033e75f",
   "metadata": {},
   "outputs": [
    {
     "ename": "AssertionError",
     "evalue": "",
     "output_type": "error",
     "traceback": [
      "\u001b[0;31m---------------------------------------------------------------------------\u001b[0m",
      "\u001b[0;31mAssertionError\u001b[0m                            Traceback (most recent call last)",
      "Cell \u001b[0;32mIn[63], line 5\u001b[0m\n\u001b[1;32m      1\u001b[0m \u001b[38;5;66;03m# sub_a, sub_b = wittle()\u001b[39;00m\n\u001b[1;32m      2\u001b[0m \u001b[38;5;66;03m# print(f'A: {len(sub_a):,} possible combinations')\u001b[39;00m\n\u001b[1;32m      3\u001b[0m \u001b[38;5;66;03m# print(f'B: {len(sub_b):,} possible combinations')\u001b[39;00m\n\u001b[0;32m----> 5\u001b[0m lineups \u001b[38;5;241m=\u001b[39m \u001b[43mwittle\u001b[49m\u001b[43m(\u001b[49m\u001b[43m)\u001b[49m\n\u001b[1;32m      6\u001b[0m \u001b[38;5;28mprint\u001b[39m(\u001b[38;5;124mf\u001b[39m\u001b[38;5;124m'\u001b[39m\u001b[38;5;132;01m{\u001b[39;00m\u001b[38;5;28mlen\u001b[39m(lineups)\u001b[38;5;132;01m:\u001b[39;00m\u001b[38;5;124m,\u001b[39m\u001b[38;5;132;01m}\u001b[39;00m\u001b[38;5;124m possible lineups.\u001b[39m\u001b[38;5;130;01m\\n\u001b[39;00m\u001b[38;5;124m'\u001b[39m)\n",
      "Cell \u001b[0;32mIn[60], line 23\u001b[0m, in \u001b[0;36mwittle\u001b[0;34m()\u001b[0m\n\u001b[1;32m     20\u001b[0m sub_a \u001b[38;5;241m=\u001b[39m [combo \u001b[38;5;28;01mfor\u001b[39;00m combo \u001b[38;5;129;01min\u001b[39;00m itertools\u001b[38;5;241m.\u001b[39mcombinations(a, \u001b[38;5;241m3\u001b[39m) \u001b[38;5;28;01mif\u001b[39;00m checker\u001b[38;5;241m.\u001b[39msalaries(lookup\u001b[38;5;241m.\u001b[39msalaries(combo))]\n\u001b[1;32m     21\u001b[0m sub_b \u001b[38;5;241m=\u001b[39m [combo \u001b[38;5;28;01mfor\u001b[39;00m combo \u001b[38;5;129;01min\u001b[39;00m itertools\u001b[38;5;241m.\u001b[39mcombinations(b, \u001b[38;5;241m3\u001b[39m) \u001b[38;5;28;01mif\u001b[39;00m checker\u001b[38;5;241m.\u001b[39msalaries(lookup\u001b[38;5;241m.\u001b[39msalaries(combo))]\n\u001b[0;32m---> 23\u001b[0m lineups \u001b[38;5;241m=\u001b[39m [combo \u001b[38;5;28;01mfor\u001b[39;00m combo \u001b[38;5;129;01min\u001b[39;00m itertools\u001b[38;5;241m.\u001b[39mproduct(sub_a, sub_b) \u001b[38;5;28;01mif\u001b[39;00m checker\u001b[38;5;241m.\u001b[39msalaries(\u001b[43mlookup\u001b[49m\u001b[38;5;241;43m.\u001b[39;49m\u001b[43msalaries\u001b[49m\u001b[43m(\u001b[49m\u001b[43mcombo\u001b[49m\u001b[43m)\u001b[49m)]\n\u001b[1;32m     25\u001b[0m \u001b[38;5;28;01mreturn\u001b[39;00m lineups\n",
      "Cell \u001b[0;32mIn[31], line 12\u001b[0m, in \u001b[0;36mLookup.salaries\u001b[0;34m(self, names)\u001b[0m\n\u001b[1;32m     11\u001b[0m \u001b[38;5;28;01mdef\u001b[39;00m \u001b[38;5;21msalaries\u001b[39m(\u001b[38;5;28mself\u001b[39m, names: \u001b[38;5;28mtuple\u001b[39m[\u001b[38;5;28mstr\u001b[39m,\u001b[38;5;241m.\u001b[39m\u001b[38;5;241m.\u001b[39m\u001b[38;5;241m.\u001b[39m]):\n\u001b[0;32m---> 12\u001b[0m     \u001b[38;5;28;01mreturn\u001b[39;00m [\u001b[38;5;28;43mself\u001b[39;49m\u001b[38;5;241;43m.\u001b[39;49m\u001b[43msalary\u001b[49m\u001b[43m(\u001b[49m\u001b[43mname\u001b[49m\u001b[43m)\u001b[49m \u001b[38;5;28;01mfor\u001b[39;00m name \u001b[38;5;129;01min\u001b[39;00m names]\n",
      "Cell \u001b[0;32mIn[31], line 9\u001b[0m, in \u001b[0;36mLookup.salary\u001b[0;34m(self, name)\u001b[0m\n\u001b[1;32m      8\u001b[0m \u001b[38;5;28;01mdef\u001b[39;00m \u001b[38;5;21msalary\u001b[39m(\u001b[38;5;28mself\u001b[39m, name: \u001b[38;5;28mstr\u001b[39m):\n\u001b[0;32m----> 9\u001b[0m     \u001b[38;5;28;01mreturn\u001b[39;00m \u001b[38;5;28;43mself\u001b[39;49m\u001b[38;5;241;43m.\u001b[39;49m\u001b[43mdata\u001b[49m\u001b[38;5;241;43m.\u001b[39;49m\u001b[43mloc\u001b[49m\u001b[43m[\u001b[49m\u001b[43mname\u001b[49m\u001b[43m,\u001b[49m\u001b[43m \u001b[49m\u001b[38;5;124;43m'\u001b[39;49m\u001b[38;5;124;43msalary\u001b[39;49m\u001b[38;5;124;43m'\u001b[39;49m\u001b[43m]\u001b[49m\n",
      "File \u001b[0;32m/usr/lib/python3.12/site-packages/pandas/core/indexing.py:1067\u001b[0m, in \u001b[0;36m_LocationIndexer.__getitem__\u001b[0;34m(self, key)\u001b[0m\n\u001b[1;32m   1065\u001b[0m     \u001b[38;5;28;01mif\u001b[39;00m \u001b[38;5;28mself\u001b[39m\u001b[38;5;241m.\u001b[39m_is_scalar_access(key):\n\u001b[1;32m   1066\u001b[0m         \u001b[38;5;28;01mreturn\u001b[39;00m \u001b[38;5;28mself\u001b[39m\u001b[38;5;241m.\u001b[39mobj\u001b[38;5;241m.\u001b[39m_get_value(\u001b[38;5;241m*\u001b[39mkey, takeable\u001b[38;5;241m=\u001b[39m\u001b[38;5;28mself\u001b[39m\u001b[38;5;241m.\u001b[39m_takeable)\n\u001b[0;32m-> 1067\u001b[0m     \u001b[38;5;28;01mreturn\u001b[39;00m \u001b[38;5;28;43mself\u001b[39;49m\u001b[38;5;241;43m.\u001b[39;49m\u001b[43m_getitem_tuple\u001b[49m\u001b[43m(\u001b[49m\u001b[43mkey\u001b[49m\u001b[43m)\u001b[49m\n\u001b[1;32m   1068\u001b[0m \u001b[38;5;28;01melse\u001b[39;00m:\n\u001b[1;32m   1069\u001b[0m     \u001b[38;5;66;03m# we by definition only have the 0th axis\u001b[39;00m\n\u001b[1;32m   1070\u001b[0m     axis \u001b[38;5;241m=\u001b[39m \u001b[38;5;28mself\u001b[39m\u001b[38;5;241m.\u001b[39maxis \u001b[38;5;129;01mor\u001b[39;00m \u001b[38;5;241m0\u001b[39m\n",
      "File \u001b[0;32m/usr/lib/python3.12/site-packages/pandas/core/indexing.py:1256\u001b[0m, in \u001b[0;36m_LocIndexer._getitem_tuple\u001b[0;34m(self, tup)\u001b[0m\n\u001b[1;32m   1253\u001b[0m \u001b[38;5;28;01mif\u001b[39;00m \u001b[38;5;28mself\u001b[39m\u001b[38;5;241m.\u001b[39m_multi_take_opportunity(tup):\n\u001b[1;32m   1254\u001b[0m     \u001b[38;5;28;01mreturn\u001b[39;00m \u001b[38;5;28mself\u001b[39m\u001b[38;5;241m.\u001b[39m_multi_take(tup)\n\u001b[0;32m-> 1256\u001b[0m \u001b[38;5;28;01mreturn\u001b[39;00m \u001b[38;5;28;43mself\u001b[39;49m\u001b[38;5;241;43m.\u001b[39;49m\u001b[43m_getitem_tuple_same_dim\u001b[49m\u001b[43m(\u001b[49m\u001b[43mtup\u001b[49m\u001b[43m)\u001b[49m\n",
      "File \u001b[0;32m/usr/lib/python3.12/site-packages/pandas/core/indexing.py:927\u001b[0m, in \u001b[0;36m_LocationIndexer._getitem_tuple_same_dim\u001b[0;34m(self, tup)\u001b[0m\n\u001b[1;32m    924\u001b[0m     retval \u001b[38;5;241m=\u001b[39m \u001b[38;5;28mgetattr\u001b[39m(retval, \u001b[38;5;28mself\u001b[39m\u001b[38;5;241m.\u001b[39mname)\u001b[38;5;241m.\u001b[39m_getitem_axis(key, axis\u001b[38;5;241m=\u001b[39mi)\n\u001b[1;32m    925\u001b[0m     \u001b[38;5;66;03m# We should never have retval.ndim < self.ndim, as that should\u001b[39;00m\n\u001b[1;32m    926\u001b[0m     \u001b[38;5;66;03m#  be handled by the _getitem_lowerdim call above.\u001b[39;00m\n\u001b[0;32m--> 927\u001b[0m     \u001b[38;5;28;01massert\u001b[39;00m retval\u001b[38;5;241m.\u001b[39mndim \u001b[38;5;241m==\u001b[39m \u001b[38;5;28mself\u001b[39m\u001b[38;5;241m.\u001b[39mndim\n\u001b[1;32m    929\u001b[0m \u001b[38;5;28;01mreturn\u001b[39;00m retval\n",
      "\u001b[0;31mAssertionError\u001b[0m: "
     ]
    }
   ],
   "source": [
    "# sub_a, sub_b = wittle()\n",
    "# print(f'A: {len(sub_a):,} possible combinations')\n",
    "# print(f'B: {len(sub_b):,} possible combinations')\n",
    "\n",
    "lineups = wittle()\n",
    "print(f'{len(lineups):,} possible lineups.\\n')"
   ]
  },
  {
   "cell_type": "code",
   "execution_count": 38,
   "id": "c1160f03-f503-4c32-a309-08fa9f4c7a69",
   "metadata": {},
   "outputs": [
    {
     "data": {
      "text/plain": [
       "[]"
      ]
     },
     "execution_count": 38,
     "metadata": {},
     "output_type": "execute_result"
    }
   ],
   "source": [
    "lineups"
   ]
  },
  {
   "cell_type": "code",
   "execution_count": 16,
   "id": "e996de39-7cd0-458d-bc39-28a19eeb5e24",
   "metadata": {},
   "outputs": [
    {
     "name": "stdout",
     "output_type": "stream",
     "text": [
      "644,956 possible combinations\n"
     ]
    }
   ],
   "source": [
    "lookup = Lookup()\n",
    "i = 0\n",
    "\n",
    "for combo in itertools.combinations(lookup.names(), 3):\n",
    "    i+=1\n",
    "\n",
    "print(f'{i:,} possible combinations')"
   ]
  },
  {
   "cell_type": "code",
   "execution_count": 12,
   "id": "eb1c8cb8-60e9-4df6-b2a7-fbdf4cf19a73",
   "metadata": {},
   "outputs": [
    {
     "name": "stdout",
     "output_type": "stream",
     "text": [
      "769,754,986 possible combinations\n"
     ]
    }
   ],
   "source": [
    "lookup = Lookup()\n",
    "i = 0\n",
    "\n",
    "for combo in itertools.combinations(lookup.names(), 5):\n",
    "    i+=1\n",
    "\n",
    "print(f'{i:,} possible combinations')"
   ]
  },
  {
   "cell_type": "code",
   "execution_count": null,
   "id": "c943f662-6c74-48e4-9594-2720bcf248ba",
   "metadata": {},
   "outputs": [],
   "source": []
  }
 ],
 "metadata": {
  "kernelspec": {
   "display_name": "Python 3 (ipykernel)",
   "language": "python",
   "name": "python3"
  },
  "language_info": {
   "codemirror_mode": {
    "name": "ipython",
    "version": 3
   },
   "file_extension": ".py",
   "mimetype": "text/x-python",
   "name": "python",
   "nbconvert_exporter": "python",
   "pygments_lexer": "ipython3",
   "version": "3.12.4"
  }
 },
 "nbformat": 4,
 "nbformat_minor": 5
}
